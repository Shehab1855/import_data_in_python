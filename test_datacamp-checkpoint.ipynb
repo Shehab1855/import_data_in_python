{
 "cells": [
  {
   "cell_type": "markdown",
   "id": "60693486",
   "metadata": {},
   "source": [
    "# Bace to import  text file "
   ]
  },
  {
   "cell_type": "code",
   "execution_count": 1,
   "id": "c72f9df4",
   "metadata": {},
   "outputs": [],
   "source": [
    "filename = 'TextDocument.txt'"
   ]
  },
  {
   "cell_type": "code",
   "execution_count": 2,
   "id": "1b3099a0",
   "metadata": {},
   "outputs": [],
   "source": [
    "file = open(filename, mode='r') # 'r' is to read\n",
    "text = file.read()\n",
    "file.close()\n"
   ]
  },
  {
   "cell_type": "code",
   "execution_count": 3,
   "id": "8fa8a2cd",
   "metadata": {},
   "outputs": [
    {
     "name": "stdout",
     "output_type": "stream",
     "text": [
      "YOU don't know about me without you have read a book by\n",
      "the name of The Adventures of Tom Sawyer; but that\n",
      "ain't no matter. That book was made by Mr. Mark Twain,\n",
      "and he told the truth, mainly. There was things which\n",
      "he stretched, but mainly he told the truth. That is\n",
      "nothing. never seen anybody but lied one time or\n",
      "another, without it was Aunt Polly, or the widow, or\n",
      "maybe Mary. Aunt Polly--Tom's Aunt Polly, she is--and\n",
      "Mary, and the Widow Douglas is all told about in that\n",
      "book, which is mostly a true book, with some\n",
      "stretchers, as I said before.\n",
      "\n"
     ]
    }
   ],
   "source": [
    "print(text)"
   ]
  },
  {
   "cell_type": "markdown",
   "id": "2d4ef075",
   "metadata": {},
   "source": [
    "******************"
   ]
  },
  {
   "cell_type": "markdown",
   "id": "255b747b",
   "metadata": {},
   "source": [
    "# Anter way to import text file"
   ]
  },
  {
   "cell_type": "code",
   "execution_count": 4,
   "id": "d4caf1cf",
   "metadata": {},
   "outputs": [
    {
     "name": "stdout",
     "output_type": "stream",
     "text": [
      "YOU don't know about me without you have read a book by\n",
      "the name of The Adventures of Tom Sawyer; but that\n",
      "ain't no matter. That book was made by Mr. Mark Twain,\n",
      "and he told the truth, mainly. There was things which\n",
      "he stretched, but mainly he told the truth. That is\n",
      "nothing. never seen anybody but lied one time or\n",
      "another, without it was Aunt Polly, or the widow, or\n",
      "maybe Mary. Aunt Polly--Tom's Aunt Polly, she is--and\n",
      "Mary, and the Widow Douglas is all told about in that\n",
      "book, which is mostly a true book, with some\n",
      "stretchers, as I said before.\n",
      "\n"
     ]
    }
   ],
   "source": [
    "with open('TextDocument.txt','r') as file:\n",
    "    print(file.read())"
   ]
  },
  {
   "cell_type": "markdown",
   "id": "afec0fbb",
   "metadata": {},
   "source": [
    "-------------"
   ]
  },
  {
   "cell_type": "markdown",
   "id": "d15eca70",
   "metadata": {},
   "source": [
    "# Importing flat files using numpy"
   ]
  },
  {
   "cell_type": "code",
   "execution_count": 5,
   "id": "73e55efe",
   "metadata": {},
   "outputs": [],
   "source": [
    "import numpy as np\n",
    "f_name ='Book.csv'"
   ]
  },
  {
   "cell_type": "code",
   "execution_count": 6,
   "id": "add32487",
   "metadata": {},
   "outputs": [],
   "source": [
    "\n",
    "data = np.loadtxt(f_name,delimiter=',',skiprows=1)"
   ]
  },
  {
   "cell_type": "code",
   "execution_count": 7,
   "id": "2ba7a7fb",
   "metadata": {},
   "outputs": [
    {
     "name": "stdout",
     "output_type": "stream",
     "text": [
      "[[144.  80.]\n",
      " [174.  73.]\n",
      " [155.  65.]\n",
      " [140.  44.]\n",
      " [130.  40.]\n",
      " [ 90.  45.]]\n"
     ]
    }
   ],
   "source": [
    "print(data)"
   ]
  },
  {
   "cell_type": "markdown",
   "id": "3f96e0b8",
   "metadata": {},
   "source": [
    "skiprows=1\n",
    "this fro delete headers"
   ]
  },
  {
   "cell_type": "markdown",
   "id": "7a8e0e85",
   "metadata": {},
   "source": [
    "usecols=[?]\n",
    "this fro delete specific columns"
   ]
  },
  {
   "cell_type": "markdown",
   "id": "152ef73a",
   "metadata": {},
   "source": [
    "-------------"
   ]
  },
  {
   "cell_type": "markdown",
   "id": "b73ff7d7",
   "metadata": {},
   "source": [
    "# Importing using pandas\n"
   ]
  },
  {
   "cell_type": "code",
   "execution_count": 8,
   "id": "387860a5",
   "metadata": {},
   "outputs": [],
   "source": [
    "import pandas as pd"
   ]
  },
  {
   "cell_type": "code",
   "execution_count": 9,
   "id": "cc46775c",
   "metadata": {},
   "outputs": [],
   "source": [
    "filename = 'bikes_data.csv'\n",
    "data = pd.read_csv(filename)"
   ]
  },
  {
   "cell_type": "code",
   "execution_count": 10,
   "id": "ecafcabc",
   "metadata": {},
   "outputs": [
    {
     "data": {
      "text/html": [
       "<div>\n",
       "<style scoped>\n",
       "    .dataframe tbody tr th:only-of-type {\n",
       "        vertical-align: middle;\n",
       "    }\n",
       "\n",
       "    .dataframe tbody tr th {\n",
       "        vertical-align: top;\n",
       "    }\n",
       "\n",
       "    .dataframe thead th {\n",
       "        text-align: right;\n",
       "    }\n",
       "</style>\n",
       "<table border=\"1\" class=\"dataframe\">\n",
       "  <thead>\n",
       "    <tr style=\"text-align: right;\">\n",
       "      <th></th>\n",
       "      <th>Company</th>\n",
       "      <th>Country of Origin</th>\n",
       "      <th>Model</th>\n",
       "      <th>Number of cc</th>\n",
       "      <th>Horsepower</th>\n",
       "      <th>Torque</th>\n",
       "      <th>Transmission Type</th>\n",
       "      <th>Drivetrain</th>\n",
       "      <th>Number of Seating</th>\n",
       "      <th>Price (in INR)</th>\n",
       "      <th>Year</th>\n",
       "      <th>Looks</th>\n",
       "      <th>Body Type</th>\n",
       "      <th>Engine Type</th>\n",
       "      <th>Number of Cylinders</th>\n",
       "    </tr>\n",
       "  </thead>\n",
       "  <tbody>\n",
       "    <tr>\n",
       "      <th>0</th>\n",
       "      <td>Aprilia</td>\n",
       "      <td>Italy</td>\n",
       "      <td>RS 660</td>\n",
       "      <td>659</td>\n",
       "      <td>100 hp</td>\n",
       "      <td>67 Nm</td>\n",
       "      <td>6-speed quickshifter</td>\n",
       "      <td>Chain</td>\n",
       "      <td>2</td>\n",
       "      <td>INR 10,99,000</td>\n",
       "      <td>2021</td>\n",
       "      <td>Sport</td>\n",
       "      <td>Naked</td>\n",
       "      <td>Parallel-twin</td>\n",
       "      <td>2</td>\n",
       "    </tr>\n",
       "    <tr>\n",
       "      <th>1</th>\n",
       "      <td>Aprilia</td>\n",
       "      <td>Italy</td>\n",
       "      <td>Tuono 660</td>\n",
       "      <td>659</td>\n",
       "      <td>100 hp</td>\n",
       "      <td>67 Nm</td>\n",
       "      <td>6-speed quickshifter</td>\n",
       "      <td>Chain</td>\n",
       "      <td>2</td>\n",
       "      <td>INR 11,99,000</td>\n",
       "      <td>2021</td>\n",
       "      <td>Sport</td>\n",
       "      <td>Naked</td>\n",
       "      <td>Parallel-twin</td>\n",
       "      <td>2</td>\n",
       "    </tr>\n",
       "    <tr>\n",
       "      <th>2</th>\n",
       "      <td>Aprilia</td>\n",
       "      <td>Italy</td>\n",
       "      <td>RS 125</td>\n",
       "      <td>124.9</td>\n",
       "      <td>15 hp</td>\n",
       "      <td>12 Nm</td>\n",
       "      <td>6-speed manual</td>\n",
       "      <td>Chain</td>\n",
       "      <td>2</td>\n",
       "      <td>INR 4,49,000</td>\n",
       "      <td>2022</td>\n",
       "      <td>Sport</td>\n",
       "      <td>Racing</td>\n",
       "      <td>Single-cylinder</td>\n",
       "      <td>1</td>\n",
       "    </tr>\n",
       "    <tr>\n",
       "      <th>3</th>\n",
       "      <td>Aprilia</td>\n",
       "      <td>Italy</td>\n",
       "      <td>Shiver 900</td>\n",
       "      <td>896</td>\n",
       "      <td>95 hp</td>\n",
       "      <td>90 Nm</td>\n",
       "      <td>6-speed manual</td>\n",
       "      <td>Shaft</td>\n",
       "      <td>2</td>\n",
       "      <td>INR 13,99,000</td>\n",
       "      <td>2022</td>\n",
       "      <td>Adventure</td>\n",
       "      <td>Naked</td>\n",
       "      <td>V-twin</td>\n",
       "      <td>2</td>\n",
       "    </tr>\n",
       "    <tr>\n",
       "      <th>4</th>\n",
       "      <td>Aprilia</td>\n",
       "      <td>Italy</td>\n",
       "      <td>Tuono 1100</td>\n",
       "      <td>1077</td>\n",
       "      <td>175 hp</td>\n",
       "      <td>121 Nm</td>\n",
       "      <td>6-speed manual</td>\n",
       "      <td>Shaft</td>\n",
       "      <td>2</td>\n",
       "      <td>INR 19,99,000</td>\n",
       "      <td>2022</td>\n",
       "      <td>Adventure</td>\n",
       "      <td>Naked</td>\n",
       "      <td>V-twin</td>\n",
       "      <td>2</td>\n",
       "    </tr>\n",
       "  </tbody>\n",
       "</table>\n",
       "</div>"
      ],
      "text/plain": [
       "   Company Country of Origin       Model Number of cc Horsepower  Torque  \\\n",
       "0  Aprilia             Italy      RS 660          659     100 hp   67 Nm   \n",
       "1  Aprilia             Italy   Tuono 660          659     100 hp   67 Nm   \n",
       "2  Aprilia             Italy      RS 125        124.9      15 hp   12 Nm   \n",
       "3  Aprilia             Italy  Shiver 900          896      95 hp   90 Nm   \n",
       "4  Aprilia             Italy  Tuono 1100         1077     175 hp  121 Nm   \n",
       "\n",
       "      Transmission Type Drivetrain  Number of Seating Price (in INR)  Year  \\\n",
       "0  6-speed quickshifter      Chain                  2  INR 10,99,000  2021   \n",
       "1  6-speed quickshifter      Chain                  2  INR 11,99,000  2021   \n",
       "2        6-speed manual      Chain                  2   INR 4,49,000  2022   \n",
       "3        6-speed manual      Shaft                  2  INR 13,99,000  2022   \n",
       "4        6-speed manual      Shaft                  2  INR 19,99,000  2022   \n",
       "\n",
       "       Looks Body Type      Engine Type Number of Cylinders  \n",
       "0      Sport     Naked    Parallel-twin                   2  \n",
       "1      Sport     Naked    Parallel-twin                   2  \n",
       "2      Sport    Racing  Single-cylinder                   1  \n",
       "3  Adventure     Naked           V-twin                   2  \n",
       "4  Adventure     Naked           V-twin                   2  "
      ]
     },
     "execution_count": 10,
     "metadata": {},
     "output_type": "execute_result"
    }
   ],
   "source": [
    "data.head()"
   ]
  },
  {
   "cell_type": "markdown",
   "id": "4af7383d",
   "metadata": {},
   "source": [
    "-------------"
   ]
  },
  {
   "cell_type": "markdown",
   "id": "9c751b5f",
   "metadata": {},
   "source": [
    "# Pickled files\n",
    "is a serialized file format in Python. It is used to store Python objects in a binary representation, allowing them to be easily saved to disk and later retrieved."
   ]
  },
  {
   "cell_type": "code",
   "execution_count": 12,
   "id": "12aa0024",
   "metadata": {},
   "outputs": [],
   "source": [
    "import pickle\n",
    "with open('titanic_model.pkl','rb')as file:\n",
    "    data = pickle.load(file)"
   ]
  },
  {
   "cell_type": "code",
   "execution_count": 13,
   "id": "3c996ba1",
   "metadata": {},
   "outputs": [
    {
     "name": "stdout",
     "output_type": "stream",
     "text": [
      "DecisionTreeClassifier(max_depth=2, random_state=42)\n"
     ]
    }
   ],
   "source": [
    "print(data)"
   ]
  },
  {
   "cell_type": "markdown",
   "id": "c917626e",
   "metadata": {},
   "source": [
    "\n",
    "---------"
   ]
  },
  {
   "cell_type": "markdown",
   "id": "c158edb2",
   "metadata": {},
   "source": [
    "# Importing Excel spreadsheets\n"
   ]
  },
  {
   "cell_type": "code",
   "execution_count": 14,
   "id": "5824f390",
   "metadata": {},
   "outputs": [],
   "source": [
    "import pandas as pd\n",
    "file = 'Historicalinvesttemp.xlsx'\n",
    "data = pd.ExcelFile(file)\n"
   ]
  },
  {
   "cell_type": "markdown",
   "id": "d0316eb3",
   "metadata": {},
   "source": [
    "*print name of pages"
   ]
  },
  {
   "cell_type": "code",
   "execution_count": 15,
   "id": "60219443",
   "metadata": {
    "scrolled": true
   },
   "outputs": [
    {
     "name": "stdout",
     "output_type": "stream",
     "text": [
      "['Sheet1']\n"
     ]
    }
   ],
   "source": [
    "\n",
    "print(data.sheet_names)"
   ]
  },
  {
   "cell_type": "markdown",
   "id": "537ef10d",
   "metadata": {},
   "source": [
    "*print data of fist page"
   ]
  },
  {
   "cell_type": "code",
   "execution_count": 16,
   "id": "29beb94a",
   "metadata": {},
   "outputs": [
    {
     "name": "stdout",
     "output_type": "stream",
     "text": [
      "   Unnamed: 0                        Unnamed: 1 Unnamed: 2 Unnamed: 3\n",
      "0         NaN                               NaN        NaN        NaN\n",
      "1         NaN                               NaN        NaN        NaN\n",
      "2         NaN                               NaN        NaN        NaN\n",
      "3         NaN                               NaN        NaN        NaN\n",
      "4         NaN  Annual Returns on Investments in        NaN        NaN\n",
      "..        ...                               ...        ...        ...\n",
      "85       2007                            0.0549     0.0988     0.0466\n",
      "86       2008                             -0.37     0.2587      0.016\n",
      "87       2009                            0.2646     -0.149      0.001\n",
      "88        NaN                            stocks     tbills      bonds\n",
      "89   averages                               NaN        NaN        NaN\n",
      "\n",
      "[90 rows x 4 columns]\n"
     ]
    }
   ],
   "source": [
    "sheet_name = data.sheet_names[0]  # Assuming you want to print the first sheet\n",
    "df = data.parse(sheet_name)       # Load the sheet into a DataFrame\n",
    "\n",
    "print(df)"
   ]
  },
  {
   "cell_type": "markdown",
   "id": "10f5041e",
   "metadata": {},
   "source": [
    "-------\n",
    "\n"
   ]
  },
  {
   "cell_type": "markdown",
   "id": "1688c7de",
   "metadata": {},
   "source": [
    "# SAS and Stata files\n",
    "SAS: Statistical Analysis System\n",
    "Stata: “Statistics” + “data”\n",
    "SAS: business analytics and biostatistics\n",
    "Stata: academic social sciences research\n"
   ]
  },
  {
   "cell_type": "code",
   "execution_count": 17,
   "id": "21e9d070",
   "metadata": {},
   "outputs": [],
   "source": [
    "import pandas as pd\n",
    "from sas7bdat import SAS7BDAT\n",
    "with SAS7BDAT('skinproduct_vfdemo.sas7bdat') as file:\n",
    "    df_sas = file.to_data_frame()\n"
   ]
  },
  {
   "cell_type": "code",
   "execution_count": 18,
   "id": "3a72dd23",
   "metadata": {},
   "outputs": [
    {
     "data": {
      "text/html": [
       "<div>\n",
       "<style scoped>\n",
       "    .dataframe tbody tr th:only-of-type {\n",
       "        vertical-align: middle;\n",
       "    }\n",
       "\n",
       "    .dataframe tbody tr th {\n",
       "        vertical-align: top;\n",
       "    }\n",
       "\n",
       "    .dataframe thead th {\n",
       "        text-align: right;\n",
       "    }\n",
       "</style>\n",
       "<table border=\"1\" class=\"dataframe\">\n",
       "  <thead>\n",
       "    <tr style=\"text-align: right;\">\n",
       "      <th></th>\n",
       "      <th>ProductKey</th>\n",
       "      <th>DistributionCenter</th>\n",
       "      <th>DATE_CHAR</th>\n",
       "      <th>Discount</th>\n",
       "      <th>Revenue</th>\n",
       "    </tr>\n",
       "  </thead>\n",
       "  <tbody>\n",
       "    <tr>\n",
       "      <th>0</th>\n",
       "      <td>Alex's Anti Dandruff Shampoo 17 dl</td>\n",
       "      <td>Atlanta</td>\n",
       "      <td>02/10/2013</td>\n",
       "      <td>0.0</td>\n",
       "      <td>35966.0</td>\n",
       "    </tr>\n",
       "    <tr>\n",
       "      <th>1</th>\n",
       "      <td>Alex's Anti Dandruff Shampoo 17 dl</td>\n",
       "      <td>Atlanta</td>\n",
       "      <td>02/17/2013</td>\n",
       "      <td>0.0</td>\n",
       "      <td>25270.0</td>\n",
       "    </tr>\n",
       "    <tr>\n",
       "      <th>2</th>\n",
       "      <td>Alex's Anti Dandruff Shampoo 17 dl</td>\n",
       "      <td>Atlanta</td>\n",
       "      <td>02/24/2013</td>\n",
       "      <td>0.0</td>\n",
       "      <td>20980.0</td>\n",
       "    </tr>\n",
       "    <tr>\n",
       "      <th>3</th>\n",
       "      <td>Alex's Anti Dandruff Shampoo 17 dl</td>\n",
       "      <td>Atlanta</td>\n",
       "      <td>03/03/2013</td>\n",
       "      <td>0.0</td>\n",
       "      <td>86823.0</td>\n",
       "    </tr>\n",
       "    <tr>\n",
       "      <th>4</th>\n",
       "      <td>Alex's Anti Dandruff Shampoo 17 dl</td>\n",
       "      <td>Atlanta</td>\n",
       "      <td>03/10/2013</td>\n",
       "      <td>0.0</td>\n",
       "      <td>21888.0</td>\n",
       "    </tr>\n",
       "    <tr>\n",
       "      <th>...</th>\n",
       "      <td>...</td>\n",
       "      <td>...</td>\n",
       "      <td>...</td>\n",
       "      <td>...</td>\n",
       "      <td>...</td>\n",
       "    </tr>\n",
       "    <tr>\n",
       "      <th>147065</th>\n",
       "      <td>Sujatha's Sensitve skin Lotion 8 dl</td>\n",
       "      <td>Toronto</td>\n",
       "      <td>02/15/2015</td>\n",
       "      <td>0.0</td>\n",
       "      <td>27027.0</td>\n",
       "    </tr>\n",
       "    <tr>\n",
       "      <th>147066</th>\n",
       "      <td>Sujatha's Sensitve skin Lotion 8 dl</td>\n",
       "      <td>Toronto</td>\n",
       "      <td>02/22/2015</td>\n",
       "      <td>0.0</td>\n",
       "      <td>28124.0</td>\n",
       "    </tr>\n",
       "    <tr>\n",
       "      <th>147067</th>\n",
       "      <td>Sujatha's Sensitve skin Lotion 8 dl</td>\n",
       "      <td>Toronto</td>\n",
       "      <td>03/01/2015</td>\n",
       "      <td>0.0</td>\n",
       "      <td>25574.0</td>\n",
       "    </tr>\n",
       "    <tr>\n",
       "      <th>147068</th>\n",
       "      <td>Sujatha's Sensitve skin Lotion 8 dl</td>\n",
       "      <td>Toronto</td>\n",
       "      <td>03/08/2015</td>\n",
       "      <td>0.0</td>\n",
       "      <td>25812.0</td>\n",
       "    </tr>\n",
       "    <tr>\n",
       "      <th>147069</th>\n",
       "      <td>Sujatha's Sensitve skin Lotion 8 dl</td>\n",
       "      <td>Toronto</td>\n",
       "      <td>03/15/2015</td>\n",
       "      <td>0.0</td>\n",
       "      <td>25532.0</td>\n",
       "    </tr>\n",
       "  </tbody>\n",
       "</table>\n",
       "<p>147070 rows × 5 columns</p>\n",
       "</div>"
      ],
      "text/plain": [
       "                                 ProductKey DistributionCenter   DATE_CHAR  \\\n",
       "0        Alex's Anti Dandruff Shampoo 17 dl            Atlanta  02/10/2013   \n",
       "1        Alex's Anti Dandruff Shampoo 17 dl            Atlanta  02/17/2013   \n",
       "2        Alex's Anti Dandruff Shampoo 17 dl            Atlanta  02/24/2013   \n",
       "3        Alex's Anti Dandruff Shampoo 17 dl            Atlanta  03/03/2013   \n",
       "4        Alex's Anti Dandruff Shampoo 17 dl            Atlanta  03/10/2013   \n",
       "...                                     ...                ...         ...   \n",
       "147065  Sujatha's Sensitve skin Lotion 8 dl            Toronto  02/15/2015   \n",
       "147066  Sujatha's Sensitve skin Lotion 8 dl            Toronto  02/22/2015   \n",
       "147067  Sujatha's Sensitve skin Lotion 8 dl            Toronto  03/01/2015   \n",
       "147068  Sujatha's Sensitve skin Lotion 8 dl            Toronto  03/08/2015   \n",
       "147069  Sujatha's Sensitve skin Lotion 8 dl            Toronto  03/15/2015   \n",
       "\n",
       "        Discount  Revenue  \n",
       "0            0.0  35966.0  \n",
       "1            0.0  25270.0  \n",
       "2            0.0  20980.0  \n",
       "3            0.0  86823.0  \n",
       "4            0.0  21888.0  \n",
       "...          ...      ...  \n",
       "147065       0.0  27027.0  \n",
       "147066       0.0  28124.0  \n",
       "147067       0.0  25574.0  \n",
       "147068       0.0  25812.0  \n",
       "147069       0.0  25532.0  \n",
       "\n",
       "[147070 rows x 5 columns]"
      ]
     },
     "execution_count": 18,
     "metadata": {},
     "output_type": "execute_result"
    }
   ],
   "source": [
    "df_sas"
   ]
  },
  {
   "cell_type": "markdown",
   "id": "9aa8d265",
   "metadata": {},
   "source": [
    "# Importing HDF5 file"
   ]
  },
  {
   "cell_type": "code",
   "execution_count": 19,
   "id": "20a867ea",
   "metadata": {},
   "outputs": [],
   "source": [
    "import h5py\n",
    "filename = 'hdf5create.hdf5'"
   ]
  },
  {
   "cell_type": "code",
   "execution_count": 20,
   "id": "33279483",
   "metadata": {},
   "outputs": [],
   "source": [
    "data = h5py.File(filename, 'r')  "
   ]
  },
  {
   "cell_type": "code",
   "execution_count": 21,
   "id": "74488b9f",
   "metadata": {},
   "outputs": [
    {
     "name": "stdout",
     "output_type": "stream",
     "text": [
      "<HDF5 file \"hdf5create.hdf5\" (mode r)>\n"
     ]
    }
   ],
   "source": [
    "print(data)"
   ]
  },
  {
   "cell_type": "markdown",
   "id": "d98d5d18",
   "metadata": {},
   "source": [
    "# Importing a .mat file"
   ]
  },
  {
   "cell_type": "code",
   "execution_count": 22,
   "id": "ae550606",
   "metadata": {},
   "outputs": [],
   "source": [
    "import scipy.io\n",
    "filename = 'cross_pamap.mat'\n",
    "mat = scipy.io.loadmat(filename)"
   ]
  },
  {
   "cell_type": "code",
   "execution_count": 23,
   "id": "5f99dd0e",
   "metadata": {},
   "outputs": [
    {
     "name": "stdout",
     "output_type": "stream",
     "text": [
      "<class 'dict'>\n"
     ]
    }
   ],
   "source": [
    "print(type(mat))"
   ]
  },
  {
   "cell_type": "markdown",
   "id": "a230b06b",
   "metadata": {},
   "source": [
    "# sqlite"
   ]
  },
  {
   "cell_type": "code",
   "execution_count": 24,
   "id": "c1bc354d",
   "metadata": {},
   "outputs": [],
   "source": [
    "from sqlalchemy import create_engine\n",
    "import pandas as pd\n",
    "\n",
    "# Create a database engine\n",
    "engine = create_engine('sqlite:///sqlite.sqlite')\n",
    "con = engine.connect()\n",
    "\n",
    "con.close()\n",
    "\n"
   ]
  }
 ],
 "metadata": {
  "kernelspec": {
   "display_name": "Python 3 (ipykernel)",
   "language": "python",
   "name": "python3"
  },
  "language_info": {
   "codemirror_mode": {
    "name": "ipython",
    "version": 3
   },
   "file_extension": ".py",
   "mimetype": "text/x-python",
   "name": "python",
   "nbconvert_exporter": "python",
   "pygments_lexer": "ipython3",
   "version": "3.9.13"
  }
 },
 "nbformat": 4,
 "nbformat_minor": 5
}
